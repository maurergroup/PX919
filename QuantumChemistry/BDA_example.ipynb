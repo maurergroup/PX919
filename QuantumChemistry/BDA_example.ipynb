{
 "cells": [
  {
   "cell_type": "markdown",
   "metadata": {},
   "source": [
    "## Example calculation for BDA\n"
   ]
  },
  {
   "cell_type": "code",
   "execution_count": null,
   "metadata": {},
   "outputs": [],
   "source": [
    "from ase.build import molecule\n",
    "from ase.atoms import Atoms\n",
    "from ase.io import read\n",
    "from ase.visualize import view\n",
    "import numpy as np\n",
    "import matplotlib.pyplot as plt\n",
    "import psi4\n",
    "from psi4_helper import geom_ase_to_psi4"
   ]
  },
  {
   "cell_type": "code",
   "execution_count": null,
   "metadata": {},
   "outputs": [],
   "source": [
    "atoms = molecule('BDA') #pull molecule from database\n",
    "atoms.write('bda.pdb') # save molecule as pdb file\n",
    "view(atoms,viewer='x3d') #x3d or ngl\n",
    "\n"
   ]
  },
  {
   "cell_type": "code",
   "execution_count": null,
   "metadata": {},
   "outputs": [],
   "source": [
    "psi4.core.clean()\n",
    "psi4.core.set_output_file('output.dat', True)\n",
    "\n",
    "#translate to psi4 geometry input\n",
    "geom_input = geom_ase_to_psi4(atoms, charge=0, multiplicity=1)\n",
    "#initiate Psi4 molecule object\n",
    "bda = psi4.geometry(geom_input)\n",
    "\n",
    "# Set computation options\n",
    "psi4.set_options({'basis': '3-21G',\n",
    "                  'reference': 'rhf',\n",
    "                  'e_convergence': 1e-8})\n",
    "E,wfn = psi4.energy('scf',return_wfn=True)\n",
    "psi4.molden(wfn,'bda.molden')\n",
    "\n",
    "print('total energy ', E)"
   ]
  },
  {
   "cell_type": "code",
   "execution_count": null,
   "metadata": {},
   "outputs": [],
   "source": [
    "%less output.dat"
   ]
  },
  {
   "cell_type": "code",
   "execution_count": null,
   "metadata": {},
   "outputs": [],
   "source": [
    "#save wave function file as a molden file\n",
    "psi4.molden(wfn, 'bda.molden')"
   ]
  },
  {
   "cell_type": "code",
   "execution_count": null,
   "metadata": {},
   "outputs": [],
   "source": [
    "#start up visualization engine\n",
    "import py3Dmol\n",
    "from rdkit import Chem"
   ]
  },
  {
   "cell_type": "code",
   "execution_count": null,
   "metadata": {},
   "outputs": [],
   "source": [
    "#generate wavefunctions on a 3D grid (\"cube file\")\n",
    "psi4.cubeprop(wfn)"
   ]
  },
  {
   "cell_type": "code",
   "execution_count": null,
   "metadata": {},
   "outputs": [],
   "source": [
    "%ls"
   ]
  },
  {
   "cell_type": "code",
   "execution_count": null,
   "metadata": {},
   "outputs": [],
   "source": [
    "homo_voldata = open(\"Psi_a_20_20-A.cube\", \"r\").read() # HOMO\n",
    "lumo_voldata = open(\"Psi_a_21_21-A.cube\", \"r\").read() # LUMO"
   ]
  },
  {
   "cell_type": "code",
   "execution_count": null,
   "metadata": {},
   "outputs": [],
   "source": [
    "import rdkit.Chem as Chem\n",
    "mol_object = Chem.MolFromPDBFile('bda.pdb')\n",
    "molblock = Chem.MolToMolBlock(mol_object)"
   ]
  },
  {
   "cell_type": "code",
   "execution_count": null,
   "metadata": {},
   "outputs": [],
   "source": [
    "#visualize the HOMO\n",
    "v = py3Dmol.view()\n",
    "v.addVolumetricData(homo_voldata, \"cube\", {'isoval': -0.03, 'color': \"red\", 'opacity': 0.75})\n",
    "v.addVolumetricData(homo_voldata, \"cube\", {'isoval': 0.03, 'color': \"blue\", 'opacity': 0.75})\n",
    "v.addModel(molblock)\n",
    "v.setStyle({'stick':{}})\n",
    "v.zoomTo()\n",
    "v.show()"
   ]
  },
  {
   "cell_type": "code",
   "execution_count": null,
   "metadata": {},
   "outputs": [],
   "source": [
    "#visualize the LUMO\n",
    "v = py3Dmol.view()\n",
    "v.addVolumetricData(lumo_voldata, \"cube\", {'isoval': -0.03, 'color': \"red\", 'opacity': 0.75})\n",
    "v.addVolumetricData(lumo_voldata, \"cube\", {'isoval': 0.03, 'color': \"blue\", 'opacity': 0.75})\n",
    "v.addModel(molblock)\n",
    "v.setStyle({'stick':{}})\n",
    "v.zoomTo()\n",
    "v.show()"
   ]
  },
  {
   "cell_type": "code",
   "execution_count": null,
   "metadata": {},
   "outputs": [],
   "source": []
  }
 ],
 "metadata": {
  "kernelspec": {
   "display_name": "Python 3 (ipykernel)",
   "language": "python",
   "name": "python3"
  },
  "language_info": {
   "codemirror_mode": {
    "name": "ipython",
    "version": 3
   },
   "file_extension": ".py",
   "mimetype": "text/x-python",
   "name": "python",
   "nbconvert_exporter": "python",
   "pygments_lexer": "ipython3",
   "version": "3.12.8"
  }
 },
 "nbformat": 4,
 "nbformat_minor": 4
}
