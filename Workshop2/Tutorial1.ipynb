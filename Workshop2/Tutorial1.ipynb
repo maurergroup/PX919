{
 "cells": [
  {
   "cell_type": "markdown",
   "id": "alpine-functionality",
   "metadata": {},
   "source": [
    "<div class=\"alert alert-block alert-info\">\n",
    "    \n",
    "<h2>How to access this Jupyter notebook</h2>\n",
    "\n",
    "* <b>Step 1</b>: Open a web browser,  and go to [this page](https://jupyter.warwick.ac.uk/module/CH274), \n",
    "* <b>Step 2</b>: Enter your SCRTP username and password and press the \"Start Server\" button.<br>\n",
    "* <b>Step 3</b>: Wait (it could take a few minutes) until the blue box says \"Jupyter notebook server running!\". At that point, click on the weblink below said message.<br>\n",
    "* <b>Step 4</b>: Select the Jupyter Notebook you want to work on. <i>Remember to make a copy of the orginal notebook</i> (which is read-only). To do so, in the toolbar on top of the notebook, select File and then Make a Copy <br>\n",
    "* <b>Step 5</b>: You're all set! <br>\n",
    "* <b>Step 6</b>: <font color=\"red\">When you are done, remember to click the \"Stop Server\" button in the launcher web browser tab.</font> Please do, it's really quite important. <br>\n",
    "<b> Remember: </b> You can access your copy of the Notebook at any time from any device off and on campus by going through the same steps on e.g. your laptop - all the changes you have made will be saved and synced! <br>\n",
    "\n",
    "</div>"
   ]
  },
  {
   "cell_type": "code",
   "execution_count": null,
   "id": "boxed-recording",
   "metadata": {},
   "outputs": [],
   "source": [
    "#Import necessary modules\n",
    "import numpy as np\n",
    "import matplotlib.pyplot as plt\n",
    "import psi4\n",
    "from psi4 import properties\n",
    "import ase\n",
    "from ase.build import molecule\n",
    "from ase.atoms import Atoms\n",
    "from ase.visualize import view\n",
    "from ase.visualize.plot import plot_atoms\n",
    "from psi4_helper import geom_ase_to_psi4"
   ]
  },
  {
   "cell_type": "markdown",
   "id": "billion-dakota",
   "metadata": {},
   "source": [
    "# Correlated Methods and Excited States\n",
    "\n",
    "## What is this exercise about?\n",
    "\n",
    "In this workshop, we are going to apply multi-reference methods for the simulation of dissociation curves and excited states and compare their convergence and accuracy to single-reference methods.\n",
    "You will investigate:\n",
    "* Static and dynamic correlation\n",
    "* how your choice of method can influence results\n",
    "* basis set convergence of multi-reference and single-reference methods\n",
    "\n",
    "# Introduction\n",
    "\n",
    "In the previous exercise you have used the Hartree-Fock (HF) method to compute the energy of a system with different basis sets and carried out geometry optimizations as well as transition state searches. Here, we will try to calculate the dissociation curve of H$_2$ with HF, i.e., we will look at the following reaction:\n",
    "\n",
    "Be$_2$ $\\rightarrow$ 2Be\n",
    "\n",
    "You will see that HF will fail to describe the dissociation of the beryllium molecule qualitatively due to strong static\n",
    "correlation, which is important for systems with a lot of nearly degenerate orbitals close to the highest occupied molecular orbital (HOMO) and lowest occupied molecular orbital (LUMO). Here, for the bound state two electrons share the $\\sigma$ orbital of the beryllium molecule. However, in the case of dissociation, there will be one electron in each 1s orbital of the two atoms. While the former case is closed-shell, the second is open shell.\n",
    "\n",
    "More generally, in the dissociation limit our wavefunction ansatz has to account for the degeneracy of bonding and antibonding configurations. Since these configurations are comparably important to the total wavefunction, they have to be included in the calculation, making a multiconfigurational treatment necessary. Such quasi-degenerate configurations are not only important to correctly describe the breaking and formation of bonds, but also for excited states or transition states.\n",
    "\n",
    "We will discuss different methods and their capability to describe the breaking and formation of bonds in molecules. You will see that a multi-reference wave function can account for static correlation and can provide a qualitatively correct picture of dissociated molecules."
   ]
  },
  {
   "cell_type": "code",
   "execution_count": null,
   "id": "interim-receptor",
   "metadata": {},
   "outputs": [],
   "source": [
    "# prepare geometries\n",
    "# we set the positions to 0 for atom 0 and to 2-4.0 for atom 2\n",
    "\n",
    "all_atoms = []\n",
    "\n",
    "positions=np.zeros((2,3))\n",
    "atomtype = [\"Be\",\"Be\"]\n",
    "all_distances = np.array([2.0,2.2,2.4,2.5,2.6,2.8,3.0,3.5,4.0,4.5,5.0,6.0,7.0])\n",
    "nsteps=len(all_distances)\n",
    "for i,dist in enumerate(all_distances):\n",
    "    positions=np.zeros((2,3))\n",
    "    positions[1,2]=dist\n",
    "    atoms = Atoms(atomtype,positions)\n",
    "    all_atoms.append(atoms)\n",
    "    #print(all_atoms[i].positions)\n",
    "\n"
   ]
  },
  {
   "cell_type": "markdown",
   "id": "second-basin",
   "metadata": {},
   "source": [
    "    \n",
    "### Let's make a RHF Calculation for a set of Be$_2$ molecules with increasing bond length\n"
   ]
  },
  {
   "cell_type": "code",
   "execution_count": null,
   "id": "brief-postcard",
   "metadata": {},
   "outputs": [],
   "source": [
    "psi4.core.clean()\n",
    "#psi4.core.reopen_outfile()\n",
    "psi4.core.set_output_file('output.dat', False)\n",
    "psi4.set_memory('1000 MB')\n",
    "all_energies = []\n",
    "wvfs_hf = []\n",
    "##set geometry\n",
    "#transform ase geometries to Psi4 input string\n",
    "psi4.core.clean_options()\n",
    "for i in range(nsteps):\n",
    "    geom_input = geom_ase_to_psi4(all_atoms[i], charge=0, multiplicity=1,symmetry=\"c1\")\n",
    "    #initiate Psi4 molecule object\n",
    "    h2 = psi4.geometry(geom_input)\n",
    "\n",
    "    # Set computation options\n",
    "    psi4.set_options({'basis': '3-21G',\n",
    "                  'reference': 'rhf',\n",
    "                  'scf_type':'df',\n",
    "                  'e_convergence': 1e-8})\n",
    "\n",
    "    E, wvf = psi4.energy('scf',return_wfn=True)\n",
    "    all_energies.append(E)\n",
    "    wvfs_hf.append(wvf)\n",
    "    print(r'Total HF energy at {0:4.2f}A distance is {1:16.8f} Hartree'.format(all_atoms[i].positions[1,2],E))\n"
   ]
  },
  {
   "cell_type": "code",
   "execution_count": null,
   "id": "facial-acoustic",
   "metadata": {},
   "outputs": [],
   "source": [
    "#%less output.dat"
   ]
  },
  {
   "cell_type": "code",
   "execution_count": null,
   "id": "extreme-applicant",
   "metadata": {},
   "outputs": [],
   "source": [
    "plt.plot(all_distances,all_energies,label = \"RHF\")\n",
    "plt.legend()"
   ]
  },
  {
   "cell_type": "markdown",
   "id": "sound-implementation",
   "metadata": {},
   "source": [
    "### MP2"
   ]
  },
  {
   "cell_type": "code",
   "execution_count": null,
   "id": "entertaining-civilization",
   "metadata": {},
   "outputs": [],
   "source": [
    "## Let's see if MP2 can give a better result\n",
    "\n",
    "all_energies_mp2 = []\n",
    "for i in range(nsteps):\n",
    "    geom_input = geom_ase_to_psi4(all_atoms[i], charge=0, multiplicity=1)\n",
    "    #initiate Psi4 molecule object\n",
    "    h2 = psi4.geometry(geom_input)\n",
    "\n",
    "    E, wvf_mp2 = psi4.energy('mp2',return_wfn=True)\n",
    "    all_energies_mp2.append(E)\n",
    "    print(r'Total MP2 energy at {0:4.2f}A distance is {1:16.8f} Hartree'.format(all_atoms[i].positions[1,2],E))\n"
   ]
  },
  {
   "cell_type": "code",
   "execution_count": null,
   "id": "normal-google",
   "metadata": {},
   "outputs": [],
   "source": [
    "min_mp2 = np.min(all_energies_mp2)\n",
    "min_hf = np.min(all_energies)\n",
    "plt.plot(all_distances,all_energies-min_hf,label=\"HF\")\n",
    "plt.plot(all_distances,all_energies_mp2-min_mp2,label=\"MP2\",linestyle=\"--\")\n",
    "plt.legend()"
   ]
  },
  {
   "cell_type": "markdown",
   "id": "afraid-journalism",
   "metadata": {},
   "source": [
    "As you can see, HF and MP2 both fail completely to describe the ground state potential along the dissociative coordinate of the Be$_2$ molecule, which should look more similar to the following curve taken from DOI: 10.1126/science.1174326: https://science.sciencemag.org/content/324/5934/1548\n",
    "\n",
    "The experimentally measured well depth for Be2 is 9.45 kJ/mol (98 meV or 0.0036 Hartree)\n",
    "\n",
    "</div>\n",
    "<img src=\"Be.png\" width=\"750\"/>\n",
    "</div>\n",
    "\n",
    "\n",
    "Therefore, we will try to investigate the solution with <b> CASSCF <b>."
   ]
  },
  {
   "cell_type": "markdown",
   "id": "sunrise-animation",
   "metadata": {},
   "source": [
    "### CASSCF"
   ]
  },
  {
   "cell_type": "markdown",
   "id": "sapphire-essence",
   "metadata": {},
   "source": [
    "#### Try to come up with a solution to the active space\n",
    "\n",
    "Use the following options and fill in the ones that are left out, which are \"frozen_docc\" and \"active\".\n",
    "\n",
    "\"frozen_docc\" specifies the orbitals that are inactive and doubly occupied. \"active\" specifies the orbitals above the \"frozen_docc\" block that will be included into the active space. For the other settings, have a look at the description of the DETCI module in the Psi4 manual.\n"
   ]
  },
  {
   "cell_type": "markdown",
   "id": "gentle-wealth",
   "metadata": {},
   "source": [
    "\n",
    "    psi4.set_options({})\n",
    "    psi4.set_options({\n",
    "        'basis': '3-21G',\n",
    "        'reference': 'rhf',\n",
    "        'scf_type':'pk',\n",
    "        'mcscf_algorithm':'ah',\n",
    "        'qc_module': 'detci',\n",
    "        'nat_orbs': True,\n",
    "        'frozen_docc': ,\n",
    "        'active':\n",
    "    })\n"
   ]
  },
  {
   "cell_type": "markdown",
   "id": "criminal-depth",
   "metadata": {},
   "source": [
    "<div class=\"alert alert-block alert-info\">\n",
    "\n",
    "### Task\n",
    "\n",
    "To choose the number of frozen orbitals and the number of active orbitals, you should first visualize the RHF orbitals and MO energies. How many orbitals should be included in the frozen_docc region?\n",
    "Scan through the binding energy curve and study how the orbital energies change.\n",
    "    \n",
    "</div>"
   ]
  },
  {
   "cell_type": "code",
   "execution_count": null,
   "id": "adult-bronze",
   "metadata": {},
   "outputs": [],
   "source": [
    "########################\n",
    "epsilons = np.zeros([nsteps,wvf.nmo()])\n",
    "occs = np.zeros([nsteps,wvf.nmo()])\n",
    "for i in range(nsteps):\n",
    "    wvf=wvfs_hf[i]\n",
    "    coeffs = wvf.Ca().to_array()\n",
    "    epsilons[i,:] = wvf.epsilon_a().to_array()\n",
    "    occs[i,:] = wvf.occupation_a().to_array()\n",
    "\n",
    "print(\"Orbitals at 2.2 Angstrom\")\n",
    "for i,(o,e) in enumerate(zip(occs[3], epsilons[3])):\n",
    "    print ('Molecular Orbital {0}, occupation: {1:4.2f}, energy: {2:8.3f}'\n",
    "           .format(i,o*2,e))"
   ]
  },
  {
   "cell_type": "code",
   "execution_count": null,
   "id": "pleasant-schedule",
   "metadata": {
    "scrolled": false
   },
   "outputs": [],
   "source": [
    "plt.plot(all_distances,epsilons[:,0],label=\"HOMO-3\")\n",
    "plt.plot(all_distances,epsilons[:,1],label=\"HOMO-2\")\n",
    "plt.plot(all_distances,epsilons[:,2],label=\"HOMO-1\")\n",
    "plt.plot(all_distances,epsilons[:,3],label=\"HOMO\")\n",
    "plt.plot(all_distances,epsilons[:,4],label=\"LUMO\")\n",
    "plt.plot(all_distances,epsilons[:,5],label=\"LUMO+1\")\n",
    "plt.plot(all_distances,epsilons[:,6],label=\"LUMO+2\")\n",
    "plt.plot(all_distances,epsilons[:,7],label=\"LUMO+3\")\n",
    "plt.plot(all_distances,epsilons[:,8],label=\"LUMO+4\")\n",
    "plt.plot(all_distances,epsilons[:,9],label=\"LUMO+5\")\n",
    "plt.plot(all_distances,epsilons[:,10],label=\"LUMO+6\")\n",
    "plt.plot(all_distances,epsilons[:,11],label=\"LUMO+7\")\n",
    "\n",
    "plt.legend(loc=\"lower right\", bbox_to_anchor=[0,0,1.3,0.7])\n",
    "plt.ylim(-5,0.5) # refine to -0.5, 0.5 to focus on valence electrons\n",
    "plt.show()\n"
   ]
  },
  {
   "cell_type": "markdown",
   "id": "color-tissue",
   "metadata": {},
   "source": [
    "We find that we can definitely include the 2 1s core electrons into the frozen doubly occupied region, but probably also the HOMO-1 (at least if we don't go beyond 7 Angstrom) so we set\n",
    "    \n",
    "    frozen_docc: [3]\n",
    "    \n",
    "We also find that HOMO-1 and HOMO become degenerate at large distances and we find that LUMO to LUMO+5 coalesce at large distance. We will need at least the HOMO-1, HOMO and some of the unoccupied states in the active space"
   ]
  },
  {
   "cell_type": "markdown",
   "id": "aware-college",
   "metadata": {},
   "source": [
    "<div class=\"alert alert-block alert-info\">\n",
    "\n",
    "### Task\n",
    "\n",
    "Now run the CASSCF calculation with various different active space settings ranging from 3 to 8, \n",
    "    corresponding to CAS(4,3) to CAS(4,8),ie. 4 electrons in 3 orbitals or 4 electrons in 8 orbitals.\n",
    "</div>"
   ]
  },
  {
   "cell_type": "code",
   "execution_count": null,
   "id": "damaged-disposition",
   "metadata": {},
   "outputs": [],
   "source": [
    "casscf_tests=[]\n",
    "\n",
    "active_set = [2,3,6,7]\n",
    "\n",
    "for active in active_set:\n",
    "\n",
    "    all_energies_casscf = []\n",
    "    psi4.core.clean()\n",
    "    psi4.core.clean_options()\n",
    "    psi4.set_options({\n",
    "    'basis': '3-21G',\n",
    "    'reference': 'rhf',\n",
    "    'scf_type':'pk',\n",
    "    'mcscf_algorithm':'ah',\n",
    "    'qc_module': 'detci',\n",
    "    'nat_orbs': True,\n",
    "    'frozen_docc': [3],\n",
    "    'active': [active]\n",
    "})\n",
    "    psi4.core.set_output_file('Be.out', False)\n",
    "    for i in range(nsteps):\n",
    "        geom_input = geom_ase_to_psi4(all_atoms[i], charge=0, multiplicity=1)\n",
    "        #initiate Psi4 molecule object\n",
    "        be2 = psi4.geometry(geom_input)\n",
    "        E, wvf = psi4.energy('casscf',return_wfn=True)\n",
    "        all_energies_casscf.append(E)\n",
    "        print(r'Total CASSCF energy at {0:4.2f}A distance is {1:16.8f} Hartree'.format(all_atoms[i].positions[1,2],E))\n",
    "\n",
    "    casscf_tests.append(all_energies_casscf)"
   ]
  },
  {
   "cell_type": "code",
   "execution_count": null,
   "id": "opponent-polish",
   "metadata": {},
   "outputs": [],
   "source": [
    "#%less Be.out"
   ]
  },
  {
   "cell_type": "code",
   "execution_count": null,
   "id": "opening-silly",
   "metadata": {},
   "outputs": [],
   "source": [
    "plt.plot(all_distances,all_energies-min_hf,label=\"HF\")\n",
    "plt.plot(all_distances,all_energies_mp2-min_mp2,label=\"MP2\",linestyle=\"--\")\n",
    "\n",
    "for i, (all_energies_casscf, cas) in enumerate(zip(casscf_tests,active_set)):\n",
    "    min_casscf = np.min(all_energies_casscf)\n",
    "    plt.plot(all_distances,all_energies_casscf-min_casscf,label=\"CAS(2,{0})\".format(cas,linestyle=\"-.\"))\n",
    "    \n",
    "plt.ylim(-0.0001, 0.05)\n",
    "plt.legend()\n"
   ]
  },
  {
   "cell_type": "markdown",
   "id": "criminal-steel",
   "metadata": {},
   "source": [
    "CASSCF seems to converge to the right equilibrium distance, but the binding energy is off. Let's bring in some dynamical correlation."
   ]
  },
  {
   "cell_type": "markdown",
   "id": "confidential-category",
   "metadata": {},
   "source": [
    "### First up: DFT"
   ]
  },
  {
   "cell_type": "code",
   "execution_count": null,
   "id": "sealed-recommendation",
   "metadata": {},
   "outputs": [],
   "source": [
    "all_energies_dft = []\n",
    "psi4.core.clean()\n",
    "psi4.core.clean_options()\n",
    "psi4.set_options({\n",
    "    'basis': '3-21G',\n",
    "    'scf_type':'df',\n",
    "    'guess': 'sad'\n",
    "})\n",
    "psi4.core.set_output_file('BeDFT.out', False)\n",
    "wvf_dft = []\n",
    "for i in range(nsteps):\n",
    "    geom_input = geom_ase_to_psi4(all_atoms[i], charge=0, multiplicity=1)\n",
    "    #initiate Psi4 molecule object\n",
    "    be2 = psi4.geometry(geom_input)\n",
    "    E, wvf = psi4.energy('b3lyp',return_wfn=True)\n",
    "    wvf_dft.append(wvf)\n",
    "    all_energies_dft.append(E)\n",
    "    print(r'Total DFT energy at {0:4.2f}A distance is {1:16.8f} Hartree'.format(all_atoms[i].positions[1,2],E))\n"
   ]
  },
  {
   "cell_type": "code",
   "execution_count": null,
   "id": "twelve-puppy",
   "metadata": {},
   "outputs": [],
   "source": [
    "min_dft=np.min(all_energies_dft)\n",
    "\n",
    "plt.plot(all_distances,all_energies-min_hf,label=\"HF\")\n",
    "plt.plot(all_distances,all_energies_mp2-min_mp2,label=\"MP2\",linestyle=\"--\")\n",
    "plt.plot(all_distances,all_energies_casscf-min_casscf,label=\"CAS(2,7)\",linestyle=\"-.\")\n",
    "plt.plot(all_distances,all_energies_dft-min_dft,label=\"DFT/B3LYP\",linestyle=\"-.\")\n",
    "plt.legend()\n"
   ]
  },
  {
   "cell_type": "markdown",
   "id": "normal-documentary",
   "metadata": {},
   "source": [
    "## Let's bring in dynamical correlation with Multireference Coupled Cluser "
   ]
  },
  {
   "cell_type": "code",
   "execution_count": null,
   "id": "warming-burner",
   "metadata": {},
   "outputs": [],
   "source": [
    "mrcc_tests=[]\n",
    "\n",
    "active_set = [2]\n",
    "\n",
    "for active in active_set:\n",
    "\n",
    "    all_energies_mrcc = []\n",
    "    psi4.core.clean()\n",
    "    psi4.core.clean_options()\n",
    "    psi4.set_options({\n",
    "    'basis': '3-21G',\n",
    "    'reference': 'rhf',\n",
    "    'scf_type':'pk',\n",
    "    'mcscf_algorithm':'ah',\n",
    "    #'qc_module': 'detci',\n",
    "    'nat_orbs': True,\n",
    "    'frozen_docc': [3], #not part of active space\n",
    "    'restricted_docc': [0], # part of active space but always occupied\n",
    "    'active': [active], # active MOs\n",
    "    'frozen_uocc': [0], # frozen virtual MOs\n",
    "    'corr_multp': 1,\n",
    "    'follow_root': 1,\n",
    "    'maxiter': 200,\n",
    "    'corr_wfn': 'ccsd',\n",
    "})\n",
    "    psi4.core.set_output_file('BeMRCC.out', False)\n",
    "    for i in range(nsteps):\n",
    "        geom_input = geom_ase_to_psi4(all_atoms[i], charge=0, multiplicity=1)\n",
    "        #initiate Psi4 molecule object\n",
    "        be2 = psi4.geometry(geom_input)\n",
    "        E, wvf = psi4.energy('psimrcc',return_wfn=True)\n",
    "        all_energies_mrcc.append(E)\n",
    "        print(r'Total MRCC energy at {0:4.2f}A distance is {1:16.8f} Hartree'.format(all_atoms[i].positions[1,2],E))\n",
    "\n",
    "    mrcc_tests.append(all_energies_mrcc)"
   ]
  },
  {
   "cell_type": "code",
   "execution_count": null,
   "id": "obvious-accessory",
   "metadata": {},
   "outputs": [],
   "source": [
    "min_mrcc=np.min(all_energies_mrcc)\n",
    "\n",
    "plt.plot(all_distances,all_energies-min_hf,label=\"HF\")\n",
    "plt.plot(all_distances,all_energies_mp2-min_mp2,label=\"MP2\",linestyle=\"--\")\n",
    "plt.plot(all_distances,all_energies_casscf-min_casscf,label=\"CAS(2,7)\",linestyle=\"-.\")\n",
    "plt.plot(all_distances,all_energies_dft-min_dft,label=\"DFT/B3LYP\",linestyle=\"-.\")\n",
    "plt.plot(all_distances,all_energies_mrcc-min_mrcc,label=\"MRCCSD(2,3)\",linestyle=\"-.\")\n",
    "plt.legend()\n",
    "plt.ylim(-0.001,0.01)\n"
   ]
  },
  {
   "cell_type": "markdown",
   "id": "lightweight-conversation",
   "metadata": {},
   "source": [
    "Note the difference in the binding energy curves between DFT and MRCC"
   ]
  },
  {
   "cell_type": "markdown",
   "id": "corrected-tissue",
   "metadata": {},
   "source": [
    "## Group Work: Converging the binding energy of Be$_2$\n",
    "\n",
    "With each method the basis set convergence of the interaction energy should be investigated. Calculate the difference in energy between the experimentally determined distance of 2.5 Angstrom distance and at 7 Angstrom distance. \n",
    "Calculate this energy difference for three different basis sets\n",
    "* def2-SVP, \n",
    "* def2-TZVP, \n",
    "* def2-QZVP basis set\n",
    "    \n",
    "Plot the results (energies vs. 1,2,3) and evaluate the timings (look into the output files) and let us know whenever you are finished. In the end, we will compare the results and discuss the differences of each method.\n",
    "\n",
    "The methods that should be tested are:\n",
    "* RHF\n",
    "* MP2\n",
    "* DFT/PBE\n",
    "* DFT/PBE0\n",
    "* DFT/B3LYP\n",
    "* CCSD\n",
    "* CASSCF(2,3)\n",
    "* CASSCF(2,7)\n",
    "* MRCCSD(2,3) [corr_wfn: \"CCSD\"]\n",
    "* MRPT2(2,3) [corr_wfn: \"PT2\"]\n"
   ]
  },
  {
   "cell_type": "code",
   "execution_count": null,
   "id": "hourly-field",
   "metadata": {},
   "outputs": [],
   "source": [
    "all_atoms = []\n",
    "nsteps=20\n",
    "positions=np.zeros((2,3))\n",
    "atomtype = [\"Be\",\"Be\"]\n",
    "all_distances = np.linspace(2.5,7.,2)\n",
    "for i,dist in enumerate(all_distances):\n",
    "    positions=np.zeros((2,3))\n",
    "    positions[1,2]=dist\n",
    "    atoms = Atoms(atomtype,positions)\n",
    "    all_atoms.append(atoms)\n",
    "\n",
    "\n",
    "all_energies_casscf = []\n",
    "psi4.core.clean()\n",
    "psi4.core.clean_options()\n",
    "psi4.set_options({\n",
    "    'basis': 'def2-SVP',\n",
    "    'reference': 'rhf',\n",
    "    #'scf_type':'pk',\n",
    "    #'mcscf_algorithm':'ah',\n",
    "    #'qc_module': 'detci',\n",
    "    #'nat_orbs': True,\n",
    "    #'frozen_docc': [2],\n",
    "    #'active': [active]\n",
    "})\n",
    "\n",
    "energies = []\n",
    "\n",
    "psi4.core.set_output_file('Be_interaction.out', False)\n",
    "for i in range(2):\n",
    "    geom_input = geom_ase_to_psi4(all_atoms[i], charge=0, multiplicity=1)\n",
    "#initiate Psi4 molecule object\n",
    "    be2 = psi4.geometry(geom_input)\n",
    "    E, wvf = psi4.energy('pbe',return_wfn=True)\n",
    "    energies.append(E)\n",
    "    print(r'Total energy at {0:4.2f}A distance is {1:16.8f} Hartree'.format(all_atoms[i].positions[1,2],E))\n",
    "\n",
    "print(energies[1]-energies[0], 'Hartree (exp: 0.0036 Hartree)')"
   ]
  },
  {
   "cell_type": "markdown",
   "id": "athletic-dayton",
   "metadata": {},
   "source": [
    "## References\n",
    "1. [[Szabo:1996](http://store.doverpublications.com/0486691861.html)] A. Szabo and N. S. Ostlund, *Modern Quantum Chemistry*, Introduction to Advanced Electronic Structure Theory. Courier Corporation, 1996.\n",
    "2. [[Levine:2000](https://books.google.com/books?id=80RpQgAACAAJ&dq=levine%20quantum%20chemistry%205th%20edition&source=gbs_book_other_versions)] I. N. Levine, *Quantum Chemistry*. Prentice-Hall, New Jersey, 5th edition, 2000.\n",
    "3. [[Helgaker:2000](https://books.google.com/books?id=lNVLBAAAQBAJ&pg=PT1067&dq=helgaker+molecular+electronic+structure+theory&hl=en&sa=X&ved=0ahUKEwj37I7MkofUAhWG5SYKHaoPAAkQ6AEIKDAA#v=onepage&q=helgaker%20molecular%20electronic%20structure%20theory&f=false)] T. Helgaker, P. Jorgensen, and J. Olsen, *Molecular Electronic Structure Theory*, John Wiley & Sons Inc, 2000."
   ]
  },
  {
   "cell_type": "code",
   "execution_count": null,
   "id": "willing-right",
   "metadata": {},
   "outputs": [],
   "source": []
  }
 ],
 "metadata": {
  "kernelspec": {
   "display_name": "Python 3 (ipykernel)",
   "language": "python",
   "name": "python3"
  },
  "language_info": {
   "codemirror_mode": {
    "name": "ipython",
    "version": 3
   },
   "file_extension": ".py",
   "mimetype": "text/x-python",
   "name": "python",
   "nbconvert_exporter": "python",
   "pygments_lexer": "ipython3",
   "version": "3.9.13"
  }
 },
 "nbformat": 4,
 "nbformat_minor": 5
}
