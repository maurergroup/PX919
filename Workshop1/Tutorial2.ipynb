{
 "cells": [
  {
   "cell_type": "markdown",
   "metadata": {},
   "source": [
    "<div class=\"alert alert-block alert-info\">\n",
    "    \n",
    "These blue boxes contain instructions for you to follow, or stuff for you to do\n",
    "<h2>How to access this Jupyter notebook</h2>\n",
    "\n",
    "* <b>Step 1</b>: Open a web browser,  and go to [this page](https://jupyter.warwick.ac.uk/module/CH274), \n",
    "* <b>Step 2</b>: Enter your SCRTP username and password and press the \"Start Server\" button.<br>\n",
    "* <b>Step 3</b>: Wait (it could take a few minutes) until the blue box says \"Jupyter notebook server running!\". At that point, click on the weblink below said message.<br>\n",
    "* <b>Step 4</b>: Select the Jupyter Notebook you want to work on. <i>Remember to make a copy of the orginal notebook</i> (which is read-only). To do so, in the toolbar on top of the notebook, select File and then Make a Copy <br>\n",
    "* <b>Step 5</b>: You're all set! <br>\n",
    "* <b>Step 6</b>: <font color=\"red\">When you are done, remember to click the \"Stop Server\" button in the launcher web browser tab.</font> Please do, it's really quite important. <br>\n",
    "<b> Remember: </b> You can access your copy of the Notebook at any time from any device off and on campus by going through the same steps on e.g. your laptop - all the changes you have made will be saved and synced! <br>\n",
    "\n",
    "<div/>"
   ]
  },
  {
   "cell_type": "markdown",
   "metadata": {},
   "source": [
    "# Quantum Chemistry Calculations\n",
    "\n",
    "This Jupyter notebook contains several examples to illustrate use of the Psi-4 quantum chemistry package in running ab initio calculations.These examples can be used to complete the workshops; We will use ASE to build and view structures\n",
    "\n",
    "In all of the following examples, a single water molecule is chosen as a convenient example molecular system. Of course, these code snippets could be used to perform calculations for other molecular systems by simply changing the coordinates.\n",
    "\n",
    "Examples included here are: \n",
    "\n",
    "1. Hartree-Fock energy calculation;\n",
    "3. Hartree-Fock geometry optimization; \n",
    "4. Outputting useful information; \n",
    "5. Normal-mode analysis using HF;\n",
    "6. Transition-state optimization;\n",
    "7. Examples of visualization using ASE;\n",
    "8. Alternative geometry definitions.\n",
    "9. Hartree-Fock geometry optimization for open-shell system;\n",
    "10. Hartree-Fock geometry optimization for charged species."
   ]
  },
  {
   "cell_type": "markdown",
   "metadata": {},
   "source": [
    "## Documentation\n",
    "\n",
    "Useful documentation for *psi4* can be found here:\n",
    "\n",
    "https://psicode.org/psi4manual/master/psiapi.html\n",
    "\n",
    "Note that we are using *psi4* as a *Python* module, rather than as an executable - the link above goes to the relevant documentation.\n",
    "\n",
    "Documentation for energy calculations, optimization calculations and frequency calculations are here:\n",
    "\n",
    "https://psicode.org/psi4manual/master/api/psi4.driver.energy.html#psi4.driver.energy\n",
    "\n",
    "https://psicode.org/psi4manual/master/api/psi4.driver.optimize.html#psi4.driver.optimize\n",
    "\n",
    "https://psicode.org/psi4manual/master/api/psi4.driver.frequency.html#psi4.driver.frequency\n",
    "\n",
    "Finally, if the above documentation or the examples below don't help - try google!"
   ]
  },
  {
   "cell_type": "markdown",
   "metadata": {},
   "source": [
    "## Trouble-shooting\n",
    "\n",
    "Sometimes, you'll find that your *psi4* calculations fail, often with error messages which can be difficult to interpret! Here are a few hints and tips I have based on my own attempts:\n",
    "\n",
    "- If you find that a geometry optimization calculation fails to converge, try adding the following line to your python code, just before you run *psi4.optimize()*:\n",
    "\n",
    "        psi4.set_options({'opt_coordinates': 'both'})\n",
    "\n",
    "    This changes the coordinate system that *psi4* uses for optimization - usually this helps!\n",
    "\n",
    "\n",
    "- Another tricky issue relates to symmetry - if you find that calculations fail to converge and the error message is mentioning symmetry, you could try adding:\n",
    "        \n",
    "        symmetry c1\n",
    "\n",
    "    to the last line of your *psi4.geometry* block [i.e. on the line before the final **\"\"\")**]\n",
    "    \n",
    "\n",
    "- Sometimes, no matter what you do, you might find that your *psi4* calculations keep on failing, even though there doesn't seem to be anything actually wrong with the input. In these cases, click on the *Kernel* menu above and then click on *Restart & clear output*. After doing this, you'll have to run the notebook set-up cells again because the *psi4* module won't be loaded any more!"
   ]
  },
  {
   "cell_type": "markdown",
   "metadata": {},
   "source": [
    "## Calculation set-up\n",
    "\n",
    "This is important - before we run any calculations, we need to import the packages that we're going to use; if we skip this step, nothing will work!\n",
    "\n",
    "Note that you need to make sure that these packages are loaded before you run any calculations - it's best practice to place these packages somewhere near the top of your workbook, and to re-run these cells whenever you re-open your workbook."
   ]
  },
  {
   "cell_type": "code",
   "execution_count": null,
   "metadata": {},
   "outputs": [],
   "source": [
    "# Import the psi4 package - required to run the calculations!\n",
    "import psi4\n",
    "psi4.set_memory('1 GB');"
   ]
  },
  {
   "cell_type": "code",
   "execution_count": null,
   "metadata": {},
   "outputs": [],
   "source": [
    "# Import ASE for viewing....\n",
    "import ase\n",
    "from ase import io\n",
    "from ase.visualize import view"
   ]
  },
  {
   "cell_type": "code",
   "execution_count": null,
   "metadata": {},
   "outputs": [],
   "source": [
    "# Import numpy - not explicitly used here, but just a placeholder.\n",
    "import numpy as np\n",
    "\n",
    "# Import matplotlib.\n",
    "from pylab import *\n",
    "import matplotlib.pyplot as plt"
   ]
  },
  {
   "cell_type": "markdown",
   "metadata": {},
   "source": [
    "## Example 1: Hartree-Fock energy calculation\n",
    "\n",
    "This is a standard Hartree-Fock calculation for a single water molecule, with the geometry defined using the Cartesian (x,y,z) coordinates of each atom (in Angstroms)."
   ]
  },
  {
   "cell_type": "code",
   "execution_count": null,
   "metadata": {
    "scrolled": true
   },
   "outputs": [],
   "source": [
    "# Sample HF calculation with a cc-pVDZ basis set. \n",
    "#\n",
    "\n",
    "h2o = psi4.geometry(\"\"\"\n",
    "O       -0.9228114122      0.9383318842      0.0000000000                 \n",
    "H        0.0471885878      0.9383318842      0.0000000000                 \n",
    "H       -1.2461412239      0.0789766302     -0.3128360279 \n",
    "\"\"\")\n",
    "\n",
    "E = psi4.energy('hf/cc-pvdz')\n",
    "print('The HF energy is ',E,' Hartrees ')"
   ]
  },
  {
   "cell_type": "markdown",
   "metadata": {},
   "source": [
    "## Example 2: HF geometry optimization\n",
    "\n",
    "Here, we perform a geometry optimization calculation using Hartree-Fock and a cc-pVDZ basis set."
   ]
  },
  {
   "cell_type": "code",
   "execution_count": null,
   "metadata": {
    "scrolled": true
   },
   "outputs": [],
   "source": [
    "# Sample HF geometry optimization. \n",
    "\n",
    "h2o = psi4.geometry(\"\"\"\n",
    "O       -0.9228114122      0.9383318842      0.0000000000                 \n",
    "H        0.0471885878      0.9383318842      0.0000000000                 \n",
    "H       -1.2461412239      0.0789766302     -0.3128360279 \n",
    "\"\"\")\n",
    "psi4.optimize('hf/cc-pvdz')"
   ]
  },
  {
   "cell_type": "code",
   "execution_count": null,
   "metadata": {},
   "outputs": [],
   "source": [
    "# Note that, if we have a previously defined molecule (defined as a psi4.geometry)\n",
    "# we can also invoke the geometry optimization using....\n",
    "\n",
    "psi4.optimize('hf/cc-pvdz',mol=h2o)"
   ]
  },
  {
   "cell_type": "markdown",
   "metadata": {},
   "source": [
    "## Example 3: Getting useful output\n",
    "\n",
    "In the examples above, we just see the final energy values being printed out - it's obviously more useful to have access to more of the information that's created during a calculation. Here, we'll look at some examples."
   ]
  },
  {
   "cell_type": "code",
   "execution_count": null,
   "metadata": {},
   "outputs": [],
   "source": [
    "# We can set an output filename where useful information is stored using the following:\n",
    "\n",
    "psi4.core.set_output_file('output.dat')\n",
    "\n",
    "# Note that 'output.dat' can be any string you'd like - for example, you can have different output \n",
    "# files for different calculations.\n"
   ]
  },
  {
   "cell_type": "code",
   "execution_count": null,
   "metadata": {},
   "outputs": [],
   "source": [
    "# Let's now run the Hartree-Fock geometry optimization again....you should get a file\n",
    "# called output.dat created in this same directory where you're running the calculation.\n",
    "psi4.optimize('hf/cc-pvdz',mol=h2o)"
   ]
  },
  {
   "cell_type": "code",
   "execution_count": null,
   "metadata": {},
   "outputs": [],
   "source": [
    "# This example shows how we can print out the atomic coordinates in Angstroms.\n",
    "\n",
    "# First, let's reset the input H2O molecule geometry to the original geometry.\n",
    "\n",
    "psi4.core.set_output_file('geometry_optimization.dat')\n",
    "\n",
    "h2o = psi4.geometry(\"\"\"\n",
    "O       -0.9228114122      0.9383318842      0.0000000000                 \n",
    "H        0.0471885878      0.9383318842      0.0000000000                 \n",
    "H       -1.2461412239      0.0789766302     -0.3128360279 \n",
    "\"\"\")\n",
    "\n",
    "# Let's print this out to the screen....\n",
    "print(\"* Geometry BEFORE optimization...\")\n",
    "print( h2o.save_string_xyz() )\n",
    "\n",
    "psi4.optimize('hf/cc-pvdz', molecule = h2o)\n",
    "\n",
    "print(\"\\n* Geometry AFTER optimization...\")\n",
    "print( h2o.save_string_xyz() )\n"
   ]
  },
  {
   "cell_type": "markdown",
   "metadata": {},
   "source": [
    "You can see the page here: http://www.psicode.org/psi4manual/master/api/psi4.core.Molecule.html\n",
    "to see more routines which can be used to inquire about molecules. "
   ]
  },
  {
   "cell_type": "code",
   "execution_count": null,
   "metadata": {
    "scrolled": true
   },
   "outputs": [],
   "source": [
    "# Further examples - note that these outputs will be printed to 'output_test.dat'.\n",
    "\n",
    "psi4.core.set_output_file('output_test.dat')\n",
    "\n",
    "# Calculates the NxN distance matrix in Bohr - i.e. outputs distance between all pairs of atoms.\n",
    "M = h2o.distance_matrix();\n",
    "print( M.print_out() );\n",
    "\n",
    "# Output atomic coordinates of a specific atom (reminder: numbering beings at zero in Python)\n",
    "print('* XYZ coordinates of second atom are: ', h2o.xyz(1))\n"
   ]
  },
  {
   "cell_type": "markdown",
   "metadata": {},
   "source": [
    "## Example 4: Frequency calculation\n",
    "\n",
    "In this example, we'll perform a normal-mode analysis for our H2O molecule, giving the vibrational frequencies. "
   ]
  },
  {
   "cell_type": "code",
   "execution_count": null,
   "metadata": {},
   "outputs": [],
   "source": [
    "# Set the output file for this calculation.\n",
    "psi4.core.set_output_file('frequencies.dat')\n",
    "\n",
    "# Set the geometry....\n",
    "h2o = psi4.geometry(\"\"\"\n",
    "O       -0.9228114122      0.9383318842      0.0000000000                 \n",
    "H        0.0471885878      0.9383318842      0.0000000000                 \n",
    "H       -1.2461412239      0.0789766302     -0.3128360279 \n",
    "\"\"\")\n",
    "\n",
    "# Optimize the geometry using HF/cc-pVDZ.\n",
    "psi4.optimize('hf/cc-pvdz', molecule = h2o)\n",
    "\n",
    "# Calculate the frequencies - note that this is performed for the optimized geometry given\n",
    "# by the above routine.\n",
    "psi4.frequencies('hf/cc-pvdz', molecule = h2o)"
   ]
  },
  {
   "cell_type": "markdown",
   "metadata": {},
   "source": [
    "After running the above, have a look in 'frequencies.dat'. If you scroll all the way to the bottom, you should be able to find the three harmonic vibrational frequencies for H2O.\n",
    "\n",
    "You can also find the thermochemistry calculation at the bottom of the 'frequencies.dat'!"
   ]
  },
  {
   "cell_type": "markdown",
   "metadata": {},
   "source": [
    "## Example 5: Transition-state optimization\n",
    "\n",
    "In this example, we'll look at the transition-state optimization for a rearrangement of formaldehyde (COH2). The initial geometry (tsmol) is a good approximation of the transition-state; output is sent to TSopt.dat.\n",
    "\n",
    "Note that the TSopt.dat file contains the output and, at the bottom, contains details on the thermochemistry and frequency calculation. You should check that one of the vibrational frequencies is imaginary (should be about 2183i cm-1) - this is an indicator that there was a single negative frequency (eigenvalue) in the Hessian.\n"
   ]
  },
  {
   "cell_type": "code",
   "execution_count": null,
   "metadata": {},
   "outputs": [],
   "source": [
    "psi4.core.set_output_file('TSopt.dat')\n",
    "tsmol = psi4.geometry(\"\"\"\n",
    "  C   0.00288769176631      0.14234132324571     -0.00000000534925\n",
    "  O   1.14977129175014     -0.01062150758604      0.00000000212064\n",
    "  H   -0.89961837469095     -1.33546412611440      0.00000084033018\n",
    "  H   -1.07846840882550     -0.03660121954528      0.00000027289843\n",
    "\"\"\")\n",
    "\n",
    "# TS optimization\n",
    "psi4.set_options({'opt_type': 'ts'})\n",
    "psi4.optimize('hf/6-31g')\n",
    "\n",
    "# Frequency calculation to confirm imaginary frequency in Hessian.\n",
    "\n",
    "psi4.frequencies('hf/6-31g')"
   ]
  },
  {
   "cell_type": "markdown",
   "metadata": {},
   "source": [
    "## Example 6: Visualization using ASE\n",
    "\n",
    "In this example, we'll simply render the tsmol molecule generated by the TS search above. We do this in three steps:\n",
    "- First, output the tsmol object to an xyz file.\n",
    "- Second, we read in the ts.xyz file into an ASE object.\n",
    "- Third, we use ASE's view facility.\n",
    "\n"
   ]
  },
  {
   "cell_type": "code",
   "execution_count": null,
   "metadata": {
    "scrolled": true
   },
   "outputs": [],
   "source": [
    "# First save the molecule tsmol to a file called ts.xyz...\n",
    "\n",
    "tsmol.save_xyz_file('ts.xyz',True)\n",
    "\n",
    "# Next load ts.xyz as an ASE atoms object...\n",
    "\n",
    "m = io.read('ts.xyz')\n",
    "\n",
    "# ...and now view it! (Note that this all relies on loading ASE \n",
    "# right at the top of the workbook).\n",
    "\n",
    "view(m,viewer='x3d')\n",
    "\n",
    "# You should now see a figure below showing the transition-state geometry.\n"
   ]
  },
  {
   "cell_type": "code",
   "execution_count": null,
   "metadata": {},
   "outputs": [],
   "source": []
  },
  {
   "cell_type": "markdown",
   "metadata": {},
   "source": [
    "## Example 7: Alternative molecular geometry definition\n",
    "\n",
    "In all of the examples above, we've defined our input molecular geometry using atomic Cartesian coordinates. That is, we've given the (x,y,z) coordinate of each atom in the structure.\n",
    "\n",
    "An alternative structure definition which can be used is the Z-matrix (https://en.wikipedia.org/wiki/Z-matrix_(chemistry). Here, the molecule is defined using a set of interatomic distances, bond angles and torsion angles. \n",
    "\n",
    "The geometric information contained in the Cartesian and Z-matrix representations - however, Z-matrix representation is often more useful, for example when scanning over internal coordinates such as a torsion angle. \n",
    "\n",
    "Below is an example calculation where the geometry is defined as a Z-matrix.\n"
   ]
  },
  {
   "cell_type": "code",
   "execution_count": null,
   "metadata": {},
   "outputs": [],
   "source": [
    "# Define a new water molecule using a Z-matrix. The two OH bond lengths are set here \n",
    "# as 0.97 Angstroms, and the bond angle is 104.5 degrees....\n",
    "\n",
    "h2o_Zmatrix = psi4.geometry(\"\"\"\n",
    "   O\n",
    "   H 1 0.97\n",
    "   H 1 0.97 2 105.0\n",
    "\"\"\")\n",
    "E = psi4.energy('hf/cc-pvdz', molecule = h2o_Zmatrix)\n",
    "print('The HF energy is ',E,' Hartrees ')\n"
   ]
  },
  {
   "cell_type": "code",
   "execution_count": null,
   "metadata": {},
   "outputs": [],
   "source": [
    "# Another example - this is HOOH, with a torsion angle of 0 degrees (so the two hydrogen\n",
    "# atoms are eclipsed).\n",
    "#\n",
    "hooh = psi4.geometry(\"\"\"\n",
    "   symmetry c1\n",
    "   H\n",
    "   O 1 0.946347\n",
    "   O 2 1.397780 1  107.243777\n",
    "   H 3 0.946347 2  107.243777   1 0.0\n",
    "\"\"\")\n",
    "\n",
    "E = psi4.energy('hf/cc-pvdz', molecule = hooh)\n",
    "print('The HF energy is ',E,' Hartrees ')\n"
   ]
  },
  {
   "cell_type": "code",
   "execution_count": null,
   "metadata": {},
   "outputs": [],
   "source": [
    "# Let's have a look at the molecule....\n",
    "\n",
    "hooh.save_xyz_file('hooh_1.xyz',True)\n",
    "m = io.read('hooh_1.xyz')\n",
    "view(m,viewer='x3d')"
   ]
  },
  {
   "cell_type": "code",
   "execution_count": null,
   "metadata": {
    "scrolled": true
   },
   "outputs": [],
   "source": [
    "# Now let's change the torsion angle to 180 degrees....\n",
    "hooh = psi4.geometry(\"\"\"\n",
    "   symmetry c1\n",
    "   H\n",
    "   O 1 0.946347\n",
    "   O 2 1.397780 1  107.243777\n",
    "   H 3 0.946347 2  107.243777   1 180.0\n",
    "\"\"\")\n",
    "\n",
    "E = psi4.energy('hf/cc-pvdz', molecule = hooh)\n",
    "print('The HF energy is ',E,' Hartrees ')"
   ]
  },
  {
   "cell_type": "code",
   "execution_count": null,
   "metadata": {
    "scrolled": true
   },
   "outputs": [],
   "source": [
    "# Let's have a look at the molecule....\n",
    "hooh.save_xyz_file('hooh_2.xyz',True)\n",
    "m = io.read('hooh_2.xyz')\n",
    "view(m,viewer='x3d')"
   ]
  },
  {
   "cell_type": "markdown",
   "metadata": {},
   "source": [
    "## Example 8: HF geometry optimization for open-shell species\n",
    "\n",
    "Here, we perform a geometry optimization calculation using Hartree-Fock and a cc-pVDZ basis set. However, in this case, the molecule is not a closed-shell species - there is one unpaired electron. \n",
    "\n",
    "To account for this, we add an extra line to the geometry definition. Here, you can see that the first line in the geometry is now \"0 2\" - here, the \"0\" defines the total charge, and \"2\" is the spin-multiplicity, given by 2S+1, where S is the total spin angular momentum. In the case of a single unpaired electron (as in this radical species example), S=1/2 so we have 2S+1 = 2.\n",
    "\n",
    "Finally, also notice that we've added the line:\n",
    "\n",
    "    psi4.set_options({'reference': 'uhf'})\n",
    "    \n",
    "before we run the optimization. This makes sure that the Hartree-Fock calculation is set up in an \"unrestricted\" calculation; we don't need to be too concerned with the details, but this is important when accounting for open-shell species in *ab initio* calculations using Hartree-Fock (If you're interested in the details, google \"Unrestricted Hartree Fock\" for further information)."
   ]
  },
  {
   "cell_type": "code",
   "execution_count": null,
   "metadata": {},
   "outputs": [],
   "source": [
    "# C2H geometry optimization.\n",
    "\n",
    "c2h = psi4.geometry(\"\"\"\n",
    "0 2\n",
    "C       0.0000000      -0.4000000     -0.7388934234                 \n",
    "C       0.3000000     0.1000000      0.4870691299                 \n",
    "H       0.0000000      0.0000000      1.7706017606 \n",
    "symmetry c1\n",
    "\"\"\")\n",
    "c2h.save_xyz_file('c2h.xyz',True)\n",
    "m = io.read('c2h.xyz')\n",
    "view(m,viewer='x3d')\n"
   ]
  },
  {
   "cell_type": "code",
   "execution_count": null,
   "metadata": {},
   "outputs": [],
   "source": [
    "psi4.set_options({'reference': 'uhf'})\n",
    "psi4.set_options({'opt_coordinates': 'both'})\n",
    "E = psi4.optimize('hf/6-31g',molecule=c2h)\n",
    "print(\"Reactant energy = \",E)\n",
    "\n",
    "c2h.save_xyz_file('c2h.xyz',True)\n",
    "m = io.read('c2h.xyz')\n",
    "view(m,viewer='x3d')\n"
   ]
  },
  {
   "cell_type": "markdown",
   "metadata": {},
   "source": [
    "## Example 9: HF geometry optimization for a charged system\n",
    "\n",
    "Here, we perform a geometry optimization calculation using Hartree-Fock and a cc-pVDZ basis set. However, in this case, the molecule is charged.\n",
    "\n",
    "As in the example above, we define the charge and spin-multiplicity in the first line as \"-1 1\". Here, the charge is \"-1\", but there are no unpaired electrons, so S=0 and 2S+1 = 1. As a result, the \"*{charge} {multiplicity}* line says \"-1 1\".\n"
   ]
  },
  {
   "cell_type": "code",
   "execution_count": null,
   "metadata": {},
   "outputs": [],
   "source": [
    "oh = psi4.geometry(\"\"\"\n",
    "-1 1\n",
    "O       0.00000  0.00000  0.00000                  \n",
    "H       1.0      0.000000   0.0000000000                  \n",
    "\"\"\")\n",
    "#psi4.set_options({'reference': 'uhf'})\n",
    "E = psi4.optimize('hf/6-31g',molecule=oh)\n",
    "print(\"Reactant energy = \",E)"
   ]
  },
  {
   "cell_type": "code",
   "execution_count": null,
   "metadata": {},
   "outputs": [],
   "source": [
    "oh.save_xyz_file('oh.xyz',True)\n",
    "m = io.read('oh.xyz')\n",
    "view(m,viewer='x3d')"
   ]
  },
  {
   "cell_type": "code",
   "execution_count": null,
   "metadata": {},
   "outputs": [],
   "source": []
  }
 ],
 "metadata": {
  "kernelspec": {
   "display_name": "Python 3 (ipykernel)",
   "language": "python",
   "name": "python3"
  },
  "language_info": {
   "codemirror_mode": {
    "name": "ipython",
    "version": 3
   },
   "file_extension": ".py",
   "mimetype": "text/x-python",
   "name": "python",
   "nbconvert_exporter": "python",
   "pygments_lexer": "ipython3",
   "version": "3.9.13"
  },
  "toc": {
   "base_numbering": 1,
   "nav_menu": {},
   "number_sections": true,
   "sideBar": true,
   "skip_h1_title": false,
   "title_cell": "Table of Contents",
   "title_sidebar": "Contents",
   "toc_cell": false,
   "toc_position": {},
   "toc_section_display": true,
   "toc_window_display": true
  }
 },
 "nbformat": 4,
 "nbformat_minor": 2
}
