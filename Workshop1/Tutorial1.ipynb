{
 "cells": [
  {
   "cell_type": "markdown",
   "metadata": {},
   "source": [
    "<div class=\"alert alert-block alert-info\">\n",
    "    \n",
    "These blue boxes contain instructions for you to follow, or stuff for you to do\n",
    "<h2>How to access this Jupyter notebook</h2>\n",
    "\n",
    "* <b>Step 1</b>: Open a web browser,  and go to [this page](https://jupyter.warwick.ac.uk/module/CH274), \n",
    "* <b>Step 2</b>: Enter your SCRTP username and password and press the \"Start Server\" button.<br>\n",
    "* <b>Step 3</b>: Wait (it could take a few minutes) until the blue box says \"Jupyter notebook server running!\". At that point, click on the weblink below said message.<br>\n",
    "* <b>Step 4</b>: Select the Jupyter Notebook you want to work on. <i>Remember to make a copy of the orginal notebook</i> (which is read-only). To do so, in the toolbar on top of the notebook, select File and then Make a Copy <br>\n",
    "* <b>Step 5</b>: You're all set! <br>\n",
    "* <b>Step 6</b>: <font color=\"red\">When you are done, remember to click the \"Stop Server\" button in the launcher web browser tab.</font> Please do, it's really quite important. <br>\n",
    "<b> Remember: </b> You can access your copy of the Notebook at any time from any device off and on campus by going through the same steps on e.g. your laptop - all the changes you have made will be saved and synced! <br>\n",
    "\n",
    "<div/>"
   ]
  },
  {
   "cell_type": "markdown",
   "metadata": {
    "slideshow": {
     "slide_type": "slide"
    }
   },
   "source": [
    "# The Hartree Fock method and Psi4"
   ]
  },
  {
   "cell_type": "markdown",
   "metadata": {
    "slideshow": {
     "slide_type": "-"
    }
   },
   "source": [
    "<div class=\"col-md-10\">\n",
    "<p> In this tutorial we use a the Python scripting language and an interactive Jupyter notebook to run a Hartree-Fock calculation using the Python-based quantum chemistry code Psi4. </p>\n",
    "\n",
    "\n",
    "<p> You can install this setup on your own Windows/Mac computer following the instructions on the github mainpage.</p>\n",
    "</div>\n",
    "<div class=\"col-md-2\">\n",
    "<img src=\"http://www.psicode.org/psi4manual/master/_static/psi4square.png\" alt=\"Psi4 code\" style=\"width: 100px;\"/>\n",
    "</div>\n",
    "\n",
    "You will see lot's of Python statements that import packages or access functions, such as the following:\n"
   ]
  },
  {
   "cell_type": "markdown",
   "metadata": {
    "slideshow": {
     "slide_type": "slide"
    }
   },
   "source": [
    "Here we load important packages, such as a visualization programm and the Psi4 software package and then we do a little arithmetics. We also define a little helper function. \n",
    "You can execute the cell below by either pushing the play putton above or by clicking into the cell and pressing \"Shift+Enter\". You have to do this for all following cells."
   ]
  },
  {
   "cell_type": "code",
   "execution_count": null,
   "metadata": {
    "slideshow": {
     "slide_type": "-"
    }
   },
   "outputs": [],
   "source": [
    "import numpy as np\n",
    "import matplotlib.pyplot as plt\n",
    "import psi4\n",
    "from ase.build import molecule\n",
    "from ase.atoms import Atoms\n",
    "from ase.visualize import view\n",
    "from ase.visualize.plot import plot_atoms\n",
    "from psi4_helper import geom_ase_to_psi4"
   ]
  },
  {
   "cell_type": "markdown",
   "metadata": {
    "slideshow": {
     "slide_type": "slide"
    }
   },
   "source": [
    "## Part 1: Theory and Method"
   ]
  },
  {
   "cell_type": "markdown",
   "metadata": {
    "slideshow": {
     "slide_type": "-"
    }
   },
   "source": [
    "Hartree-Fock Self-Consistent Field Theory (HF-SCF) with restricted orbitals and closed-shell systems (RHF) solves the so-called Rothaan-Hall equation, which is a generalized eigenvalue matrix equation:\n",
    "\n",
    "\\begin{equation}\n",
    "\\mathbf{FC}=\\mathbf{ S C \\epsilon}\n",
    "\\end{equation}"
   ]
  },
  {
   "cell_type": "markdown",
   "metadata": {
    "collapsed": true,
    "slideshow": {
     "slide_type": "-"
    }
   },
   "source": [
    "The Fock matrix, $\\mathbf{F}$, has elements $F_{\\mu\\nu}$ given as\n",
    "\\begin{equation}\n",
    "F_{ab} = H_{ab} + \\left[ \\langle \\phi_a|\\hat{J}|\\phi_b  \\rangle - \\langle \\phi_a|\\hat{K}|\\phi_b \\rangle \\right]\n",
    "\\end{equation}\n",
    "The overlap matrix is defined as\n",
    "\\begin{equation}\n",
    "S_{ab} = \\langle \\phi_a|\\phi_b \\rangle\n",
    "\\end{equation}\n",
    "\n",
    "The orbital coefficient matrix $\\mathbf{C}$ is a $N\\times M$ matrix, where $N$ is the number of atomic basis functions ($\\phi$) and $M$  is the number of molecular orbitals ($\\psi$). This matrix describes the contribution of each basis function $\\phi_a$ to the molecular orbital $\\psi_i$."
   ]
  },
  {
   "cell_type": "markdown",
   "metadata": {
    "slideshow": {
     "slide_type": "slide"
    }
   },
   "source": [
    "## Part 2: A simple Hartree-Fock calculation"
   ]
  },
  {
   "cell_type": "markdown",
   "metadata": {
    "slideshow": {
     "slide_type": "-"
    }
   },
   "source": [
    "### Step 1: Setting up the molecular coordinates\n",
    "___________\n",
    "\n",
    "This is the first step of every calculation. We need to define the molecular coordinates. \n",
    "The `ase` package contains a lot of handy tools to define molecules with preset geometries.\n",
    "\n",
    "In the following, we use the function `molecules` from `ase.build` to build a water molecule."
   ]
  },
  {
   "cell_type": "code",
   "execution_count": null,
   "metadata": {
    "slideshow": {
     "slide_type": "-"
    }
   },
   "outputs": [],
   "source": [
    "#for water, type H2O\n",
    "#for ammonia, type NH3\n",
    "#for di-amino-benzene, type BDA,\n",
    "#for the buckminster-fullerene, type C60\n",
    "atoms = molecule('H2O')\n",
    "print(atoms.positions)"
   ]
  },
  {
   "cell_type": "markdown",
   "metadata": {
    "slideshow": {
     "slide_type": "slide"
    }
   },
   "source": [
    "Let's visualize the molecule on the screen using `ase.visualize.view`\n",
    "There are two possible viewers. 'x3d' is the standard one. 'ngl' or nglview has to be installed separately (see handout) but has a lot more features. Try to replace \n",
    "\n",
    "`view(atoms, viewer='x3d')` with `view(atoms, viewer='ngl')`"
   ]
  },
  {
   "cell_type": "code",
   "execution_count": null,
   "metadata": {
    "slideshow": {
     "slide_type": "-"
    }
   },
   "outputs": [],
   "source": [
    "view(atoms,viewer='x3d') #x3d or ngl"
   ]
  },
  {
   "cell_type": "markdown",
   "metadata": {
    "slideshow": {
     "slide_type": "slide"
    }
   },
   "source": [
    "### Step 2: Performing the calculation\n",
    "___________\n",
    "To calculate the HF energy, we use the Psi4 package. In the following,\n",
    "\n",
    "* we set the RAM memory, which we allocate to Psi4, \n",
    "* we pass the geometry from our `ase.atoms` object to `psi4.geometry`\n",
    "* we initiate the HF (also called scf) calculation using a split-valence 3-21G* Pople basis set\n",
    "* we perform the HF energy calculation using `psi4.energy`"
   ]
  },
  {
   "cell_type": "code",
   "execution_count": null,
   "metadata": {
    "scrolled": true,
    "slideshow": {
     "slide_type": "slide"
    }
   },
   "outputs": [],
   "source": [
    "psi4.core.clean()\n",
    "#psi4.core.reopen_outfile()\n",
    "psi4.core.set_output_file('output.dat', False)\n",
    "psi4.set_memory('1000 MB')\n",
    "\n",
    "##set geometry\n",
    "#transform ase geometries to Psi4 input string\n",
    "geom_input = geom_ase_to_psi4(atoms, charge=0, multiplicity=1)\n",
    "#initiate Psi4 molecule object\n",
    "nh3 = psi4.geometry(geom_input)\n",
    "\n",
    "# Set computation options\n",
    "psi4.set_options({'basis': '3-21G',\n",
    "                  'reference': 'rhf',\n",
    "                  'scf_type':'direct',\n",
    "                  'e_convergence': 1e-8})\n",
    "\n",
    "E, wvf = psi4.energy('scf',return_wfn=True)\n",
    "print('Total HF energy is {0} Hartree \\n '.format(E))\n"
   ]
  },
  {
   "cell_type": "markdown",
   "metadata": {
    "slideshow": {
     "slide_type": "-"
    }
   },
   "source": [
    "We have successfully calculated the HF energy and wave function. Let's take a closer look at the detailed output statements written in `output.dat`."
   ]
  },
  {
   "cell_type": "code",
   "execution_count": null,
   "metadata": {
    "slideshow": {
     "slide_type": "slide"
    }
   },
   "outputs": [],
   "source": [
    "%less output.dat"
   ]
  },
  {
   "cell_type": "markdown",
   "metadata": {
    "slideshow": {
     "slide_type": "slide"
    }
   },
   "source": [
    "We can also analyze the results further by looking at the MO energies, the occupations, and the coefficients."
   ]
  },
  {
   "cell_type": "code",
   "execution_count": null,
   "metadata": {
    "slideshow": {
     "slide_type": "-"
    }
   },
   "outputs": [],
   "source": [
    "#Let's look at orbital coefficients, MO energies and occupations\n",
    "coeffs = wvf.Ca().to_array() #wvfn coefficients\n",
    "epsilons = wvf.epsilon_a().to_array() #eigenvalues\n",
    "occs = wvf.occupation_a().to_array() #occupations\n",
    "for i,(o,e) in enumerate(zip(occs, epsilons)):\n",
    "    print ('Molecular Orbital {0}, occupation: {1:4.2f}, energy: {2:8.3f}'\n",
    "           .format(i,o*2,e))\n",
    "print('\\n The wave function matrix has dimensions:', coeffs.shape)\n",
    "print('\\n Wave function coefficients for the lowest energy orbital:')\n",
    "for i in coeffs[:,0]:\n",
    "    print('{0:6.2f}'.format(i))    "
   ]
  },
  {
   "cell_type": "markdown",
   "metadata": {
    "slideshow": {
     "slide_type": "notes"
    }
   },
   "source": [
    "From the above, we learn that the molecule has 13 AO basis functions, which define 13 Molecular Orbitals. Of these 13 orbitals, 5 are occupied. (These are spatial orbitals, each of which has 2 electrons. That makes 10 electrons in H$_2$O).\n",
    "\n",
    "The coefficients of the lowest energy orbital tell us that it is only comprised of a single AO, namely the 1s basis function of the oxygen atom. "
   ]
  },
  {
   "cell_type": "markdown",
   "metadata": {
    "slideshow": {
     "slide_type": "slide"
    }
   },
   "source": [
    "The last part will print the molecular wavefunctions and visualize them via rdkit and py3Dmol"
   ]
  },
  {
   "cell_type": "code",
   "execution_count": null,
   "metadata": {
    "slideshow": {
     "slide_type": "-"
    }
   },
   "outputs": [],
   "source": [
    "#print wavefunctions as cube files\n",
    "psi4.cubeprop(wvf)"
   ]
  },
  {
   "cell_type": "code",
   "execution_count": null,
   "metadata": {},
   "outputs": [],
   "source": [
    "#transform molecule into rdkit object to plot it together with MOs\n",
    "from rdkit import Chem\n",
    "atoms.write('mol.pdb')\n",
    "mol_object = Chem.MolFromPDBFile('mol.pdb',removeHs=False)\n",
    "molblock = Chem.MolToMolBlock(mol_object) \n",
    "print(molblock)"
   ]
  },
  {
   "cell_type": "code",
   "execution_count": null,
   "metadata": {},
   "outputs": [],
   "source": [
    "#Visualize molecular orbital number n\n",
    "\n",
    "#COUNTING STARTS FROM 1\n",
    "n = 5 #pick the MO to visualize, n=4 is the HOMO\n",
    "MO_voldata = open(\"Psi_a_{0}_{0}-A.cube\".format(n), \"r\").read()\n",
    "\n",
    "import py3Dmol\n",
    "v = py3Dmol.view()\n",
    "v.addVolumetricData(MO_voldata, \"cube\", {'isoval': -0.03, 'color': \"red\", 'opacity': 0.75}) # negative isovalue\n",
    "v.addVolumetricData(MO_voldata, \"cube\", {'isoval': 0.03, 'color': \"blue\", 'opacity': 0.75}) # positive isovalue\n",
    "v.addModel(molblock) # plot molecule underneath the orbital\n",
    "v.setStyle({'stick':{}})\n",
    "v.zoomTo()\n",
    "v.show()"
   ]
  },
  {
   "cell_type": "markdown",
   "metadata": {},
   "source": [
    "## Part 3: Let's play around"
   ]
  },
  {
   "cell_type": "markdown",
   "metadata": {},
   "source": [
    "<div class=\"alert alert-block alert-info\">\n",
    "\n",
    "<b> Task: </b><br>\n",
    "\n",
    "<ul>\n",
    "<li> Take a look at different Molecular Orbitals of H2O. Print the wave function coefficients and compare to the visualisations of the respective MOs (for example for HOMO-2, HOMO-1, HOMO, LUMO, LUMO+1). </li>\n",
    "<li> Can you see which atomic orbital combinations constitute the MOs? </li>\n",
    "<li> Redo the calculation for NH3, BDA and the C60 buckminster fullerene  </li>\n",
    "\n",
    "</ul>\n",
    "\n",
    "</div>\n"
   ]
  },
  {
   "cell_type": "code",
   "execution_count": null,
   "metadata": {},
   "outputs": [],
   "source": [
    "nh3 = molecule('NH3') #pull molecules from database\n",
    "bda = molecule('BDA') \n",
    "bucky = molecule('C60')"
   ]
  },
  {
   "cell_type": "code",
   "execution_count": null,
   "metadata": {},
   "outputs": [],
   "source": []
  }
 ],
 "metadata": {
  "kernelspec": {
   "display_name": "Python 3 (ipykernel)",
   "language": "python",
   "name": "python3"
  },
  "language_info": {
   "codemirror_mode": {
    "name": "ipython",
    "version": 3
   },
   "file_extension": ".py",
   "mimetype": "text/x-python",
   "name": "python",
   "nbconvert_exporter": "python",
   "pygments_lexer": "ipython3",
   "version": "3.9.13"
  }
 },
 "nbformat": 4,
 "nbformat_minor": 2
}
